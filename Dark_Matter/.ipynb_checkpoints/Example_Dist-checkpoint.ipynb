{
 "cells": [
  {
   "cell_type": "markdown",
   "metadata": {},
   "source": [
    "## ------------------------------------------------------------------------------------------------------\n",
    "## Primordial Black Hole Evaporation -- Purely Gravitational Interacting Dark Matter.                                                                                                                        \n",
    "## Authors: Andrew Cheek, Lucien Heurtier, Yuber F. Perez-Gonzalez, Jessica Turner         \n",
    "\n",
    "## Based on: arXiv:2107.xxxxx     \n",
    "## ------------------------------------------------------------------------------------------------------\n",
    "\n",
    "### Basic notebook to show how to calculate the relic density of a fermionic dark matter particle produced only by Hawking radiation. "
   ]
  },
  {
   "cell_type": "code",
   "execution_count": 2,
   "metadata": {},
   "outputs": [],
   "source": [
    "import SolFBEqs_Mono as pbh_mono\n",
    "import SolFBEqs_MassDist as pbh_MD\n",
    "import SolFBEqs_SpinMassDist as pbh_SMD"
   ]
  },
  {
   "cell_type": "code",
   "execution_count": 3,
   "metadata": {},
   "outputs": [],
   "source": [
    "import numpy as np"
   ]
  },
  {
   "cell_type": "markdown",
   "metadata": {},
   "source": [
    "#### Set the parameters"
   ]
  },
  {
   "cell_type": "code",
   "execution_count": 13,
   "metadata": {},
   "outputs": [],
   "source": [
    "Mc   = 1e5      # Peak mass in g at formation  --> Taken here as a parameter\n",
    "asc  = 0.0      # Mean initial angular momentum parameter, ast = 0. -> Schwarzschild, ast > 0. -> Kerr.\n",
    "beta = 10.**-3. # Parameter describing the initial BH energy density over total energy density \n",
    "mdm  = 1.e2     # Dark Matter Mass in GeV\n",
    "sDM  = 0.0      # Spin of Dark Radiation"
   ]
  },
  {
   "cell_type": "markdown",
   "metadata": {},
   "source": [
    "#### The class FBEqs_Sol is where the $\\Omega h^2$ is calculated "
   ]
  },
  {
   "cell_type": "code",
   "execution_count": 14,
   "metadata": {},
   "outputs": [],
   "source": [
    "foh2_mono = pbh_mono.FBEqs_Sol(np.log10(Mc), asc, np.log10(beta), np.log10(mdm), sDM)"
   ]
  },
  {
   "cell_type": "markdown",
   "metadata": {},
   "source": [
    "#### For a Mass distribution, we require additional parameters"
   ]
  },
  {
   "cell_type": "markdown",
   "metadata": {
    "tags": []
   },
   "source": [
    "#####  Distribution types:\n",
    "#####  Mass:\n",
    "#####    0 $\\to$ Lognormal, requires 1 parameter, sigma\n",
    "#####    1 $\\to$ Power law, requires 2 parameters, [sigma, alpha]\n",
    "#####    2 $\\to$ Critical collapse, doesn't require any parameters\n",
    "#####    3 $\\to$ Metric preheating, doesn't require any parameters\n",
    "#####  Spin:\n",
    "#####    0 $\\to$ Gaussian\n",
    "#####    1 $\\to$ Merger spin distribution"
   ]
  },
  {
   "cell_type": "code",
   "execution_count": 12,
   "metadata": {},
   "outputs": [],
   "source": [
    "typ_MD  = 0   # Type of mass distribution\n",
    "sig_M   = 0.5 # Width of the distribution\n",
    "alpha   = 1.0 # Alpha parameter -> used for Power law scenario\n",
    "\n",
    "if typ_MD == 1:\n",
    "    pars_MD = [sig_M, alpha]\n",
    "else:\n",
    "    pars_MD = sig_M\n",
    "\n",
    "typ_SD  = 0   # Type of spin distribution\n",
    "sig_a   = 0.1 # Width of the spin distribution\n",
    "pars_SD = sig_a\n",
    "\n",
    "typ  = [typ_MD, typ_SD]\n",
    "pars_SMD = [pars_MD, pars_SD]"
   ]
  },
  {
   "cell_type": "code",
   "execution_count": 15,
   "metadata": {},
   "outputs": [],
   "source": [
    "# Solution for a Mass distribution only\n",
    "\n",
    "foh2_MD = pbh_MD.FBEqs_Sol(np.log10(Mc), np.log10(beta),typ, pars_MD, np.log10(mdm), sDR)"
   ]
  },
  {
   "cell_type": "code",
   "execution_count": 11,
   "metadata": {},
   "outputs": [],
   "source": [
    "foh2_mono = pbh_mono.FBEqs_Sol(np.log10(Mc), asc, np.log10(beta), np.log10(mdm), sDR)"
   ]
  },
  {
   "cell_type": "markdown",
   "metadata": {},
   "source": [
    "This is how you get the relic density"
   ]
  },
  {
   "cell_type": "code",
   "execution_count": 5,
   "metadata": {},
   "outputs": [
    {
     "data": {
      "image/png": "[encoded data removed]",
      "text/plain": [
       "<Figure size 432x288 with 1 Axes>"
      ]
     },
     "metadata": {
      "needs_background": "light"
     },
     "output_type": "display_data"
    },
    {
     "data": {
      "text/plain": [
       "0.12849056326207164"
      ]
     },
     "execution_count": 5,
     "metadata": {},
     "output_type": "execute_result"
    }
   ],
   "source": [
    "\n",
    "foh2.Omegah2()\n"
   ]
  }
 ],
 "metadata": {
  "kernelspec": {
   "display_name": "Python 3 (ipykernel)",
   "language": "python",
   "name": "python3"
  },
  "language_info": {
   "codemirror_mode": {
    "name": "ipython",
    "version": 3
   },
   "file_extension": ".py",
   "mimetype": "text/x-python",
   "name": "python",
   "nbconvert_exporter": "python",
   "pygments_lexer": "ipython3",
   "version": "3.10.6"
  }
 },
 "nbformat": 4,
 "nbformat_minor": 4
}
