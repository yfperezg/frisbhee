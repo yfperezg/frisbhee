{
 "cells": [
  {
   "cell_type": "markdown",
   "id": "4bc16f11-627b-491c-a854-eb9242cd6ba0",
   "metadata": {},
   "source": [
    "### Home page for FRISBHEE on mybinder\n",
    "\n",
    "## Notebooks for dark matter \n",
    "\n",
    "- Interacting dark matter with monochromatic PBH distribution [click here](./Dark_Matter/Example_FI.ipynb).\n",
    "- Non-interacting dark matter with a non-monochromatic PBH distribution [click here](./Dark_Matter/Example_Dist.ipynb).\n",
    "\n",
    "## Notebooks for dark radiation\n",
    "\n",
    "- TODO"
   ]
  },
  {
   "cell_type": "code",
   "execution_count": null,
   "id": "01c92c5f-29bf-4381-ba9a-72f92eb862d8",
   "metadata": {},
   "outputs": [],
   "source": []
  }
 ],
 "metadata": {
  "kernelspec": {
   "display_name": "Python 3 (ipykernel)",
   "language": "python",
   "name": "python3"
  },
  "language_info": {
   "codemirror_mode": {
    "name": "ipython",
    "version": 3
   },
   "file_extension": ".py",
   "mimetype": "text/x-python",
   "name": "python",
   "nbconvert_exporter": "python",
   "pygments_lexer": "ipython3",
   "version": "3.9.11"
  }
 },
 "nbformat": 4,
 "nbformat_minor": 5
}
